{
 "cells": [
  {
   "cell_type": "markdown",
   "id": "6373b444-8e4f-4006-90e1-9be59061a5e5",
   "metadata": {},
   "source": [
    "# 🛢️ Oil Production Forecasting & Analytics Project\n",
    "\n",
    "## Project Overview\n",
    "This notebook presents a comprehensive machine learning–driven analysis of oil and water production for the Volve field, focusing on mature well performance. We leverage time-series analytics and multiple prediction algorithms to provide actionable insights for production optimization and strategic planning.\n",
    "\n",
    "## Business Context\n",
    "Mature oil fields present unique challenges and opportunities. As wells age, understanding production decline patterns and water-cut behavior becomes critical for:\n",
    "- Extending economic field life  \n",
    "- Optimizing remaining recovery  \n",
    "- Planning well interventions  \n",
    "- Sizing water-handling capacity  \n",
    "- Assessing economic cut-off thresholds  \n",
    "\n",
    "This analysis helps engineers and managers make data-driven decisions in each of these domains.\n",
    "\n",
    "## Technical Approach\n",
    "Our analysis combines robust data preprocessing with advanced time-series feature engineering and multiple machine learning algorithms:\n",
    "- **XGBoost regression** for oil production forecasting  \n",
    "- **Linear regression** for water production prediction  \n",
    "- **Decision trees** and **Random Forests** for comparative model evaluation  \n",
    "- **Bootstrapped confidence intervals** for uncertainty quantification  \n",
    "- **Production scenario simulation** for sensitivity analysis  \n",
    "\n",
    "## Key Questions Addressed\n",
    "1. What are the expected production profiles for oil and water over the next 180 days?  \n",
    "2. How do confidence intervals help quantify forecast uncertainty?  \n",
    "3. What impact would choke-size adjustments have on production?  \n",
    "4. When might economic limits be reached based on cumulative production?  \n",
    "5. How can we optimize the oil-to-water ratio in mature wells?  \n",
    "\n",
    "## Dataset\n",
    "The analysis uses well-level production data from the Volve field, including:\n",
    "- **Production rates**: oil, water, gas  \n",
    "- **Downhole parameters**: pressure, temperature  \n",
    "- **Surface parameters**: wellhead pressure, temperature  \n",
    "- **Operational settings**: choke size, on-stream hours  \n",
    "\n",
    "---\n",
    "\n",
    "Let's dive into understanding production patterns and building predictive models to optimize field operations.  \n"
   ]
  },
  {
   "cell_type": "markdown",
   "id": "4a5997a5-2ed0-4b72-bf94-023cf60ed94f",
   "metadata": {},
   "source": [
    "### 1. Imports & Configuration"
   ]
  },
  {
   "cell_type": "code",
   "execution_count": null,
   "id": "7fd36555-cec3-437f-b08a-f196c0682c85",
   "metadata": {},
   "outputs": [],
   "source": [
    "import warnings\n",
    "warnings.filterwarnings(\"ignore\")\n",
    "\n",
    "import pandas as pd\n",
    "import numpy as np\n",
    "import matplotlib.pyplot as plt\n",
    "import seaborn as sns\n",
    "import missingno as ms\n",
    "from sklearn.model_selection import TimeSeriesSplit, train_test_split\n",
    "from sklearn.linear_model import LinearRegression\n",
    "from xgboost import XGBRegressor\n",
    "import plotly_express as px\n",
    "from sklearn.tree import DecisionTreeRegressor\n",
    "from sklearn.ensemble import RandomForestRegressor\n",
    "from sklearn.preprocessing import StandardScaler\n",
    "from sklearn.pipeline import Pipeline\n",
    "from sklearn.metrics import mean_squared_error, mean_absolute_error, mean_absolute_percentage_error, r2_score\n",
    "\n",
    "# Visualization setup\n",
    "sns.set_theme(style=\"darkgrid\")\n",
    "plt.style.use(\"ggplot\")"
   ]
  },
  {
   "cell_type": "markdown",
   "id": "71f5acba-a9b6-4ea8-a451-dd004144dc2a",
   "metadata": {},
   "source": [
    "### 2. Initial Data Exploration"
   ]
  },
  {
   "cell_type": "code",
   "execution_count": null,
   "id": "81eab732-c13d-4797-baaa-895a779beaea",
   "metadata": {},
   "outputs": [],
   "source": [
    "df = pd.read_excel(\"Volve production data.xlsx\", parse_dates=[\"DATEPRD\"])"
   ]
  },
  {
   "cell_type": "code",
   "execution_count": null,
   "id": "9df16b19-a81e-43b8-912f-e99e38b71562",
   "metadata": {},
   "outputs": [],
   "source": [
    "# main figure object\n",
    "plt.figure(figsize=(8,4))\n",
    "# make scatter plot between oil and gas production\n",
    "plt.plot(df[\"DATEPRD\"], df[\"BORE_OIL_VOL\"], color=\"#6E2C00\", label=\"oil\") \n",
    "plt.plot(df[\"DATEPRD\"], df[\"BORE_WAT_VOL\"], color=\"#2980B9\", label=\"water\")\n",
    "\n",
    "# setting axes (x and y) labels \n",
    "plt.xlabel(\"TIME\", fontsize=13, labelpad=20)\n",
    "plt.ylabel(\"production\", fontsize=13, labelpad=20, loc=\"center\")\n",
    "\n",
    "# setting figure title \n",
    "plt.title(\"Oil production vs Water production with time \", fontsize=20, pad=20, loc=\"left\")\n",
    "\n",
    "plt.legend()"
   ]
  },
  {
   "cell_type": "markdown",
   "id": "628598ab-95ec-4b81-87ce-023ac557e2ec",
   "metadata": {},
   "source": [
    "This time‐series plot shows how oil rates steadily decline from peak levels in 2008–2010 while water rates ramp up over the same period. The crossover point around 2010–2011 reflects the onset of a water‐drive regime, and the noisy spikes (including implausible negative water values) highlight data anomalies that were cleaned prior to modeling."
   ]
  },
  {
   "cell_type": "markdown",
   "id": "b8e91b33-b596-466c-b337-d22359acf1d4",
   "metadata": {},
   "source": [
    "### 3. Exploratory Data Analysis - Pairwise Relationships"
   ]
  },
  {
   "cell_type": "code",
   "execution_count": null,
   "id": "44bd44de-aacb-4a39-a268-e12e257ef147",
   "metadata": {},
   "outputs": [],
   "source": [
    "# have a look at all the scatter plots between all variables\n",
    "sns.pairplot(df)"
   ]
  },
  {
   "cell_type": "markdown",
   "id": "4c461bdf-5cd3-4832-ad02-c60ff2363b23",
   "metadata": {},
   "source": [
    "The full pairplot illustrates the joint distributions and correlations between downhole pressures, temperatures, choke settings, and both oil and water rates. Strong linear relationships appear between lagged/rolling rate features and current rates, while non‐linear or weak correlations with temperature suggest why advanced tree‐based models (e.g. XGBoost) outperform simple linear regression for oil forecasting."
   ]
  },
  {
   "cell_type": "markdown",
   "id": "14e5a85f-4d10-4978-a1d5-16d8640d8b31",
   "metadata": {},
   "source": [
    "### 4. Oil Production Analysis by Well"
   ]
  },
  {
   "cell_type": "code",
   "execution_count": null,
   "id": "e94b5c99-8a0e-48b1-b0b4-e6b33e387f02",
   "metadata": {},
   "outputs": [],
   "source": [
    "plt.figure(figsize=(15,6))\n",
    "plt.title(\"Oil production for all wells\")\n",
    "sns.lineplot(data=df, x=\"DATEPRD\", y=\"BORE_OIL_VOL\", hue=\"NPD_WELL_BORE_NAME\")"
   ]
  },
  {
   "cell_type": "markdown",
   "id": "024316aa-f0bf-40e8-97d9-7bfc9fb83ff9",
   "metadata": {},
   "source": [
    "This multi‐well line chart compares historical oil output across six Volve wellbores. Early producers (e.g. 15/9-F-12 and 15/9-F-14) show high initial peaks followed by rapid decline, whereas later infill wells sustain lower, flatter production. The staggered decline curves confirm the field’s maturity and underscore the need for well‐specific forecast models."
   ]
  },
  {
   "cell_type": "markdown",
   "id": "ecc1ac29-ae92-4291-8460-52cdb62322eb",
   "metadata": {},
   "source": [
    "### 5. Detailed Production Analysis by Well"
   ]
  },
  {
   "cell_type": "code",
   "execution_count": null,
   "id": "5b329ba6-a8c1-4c27-b5ad-ef6efee396ef",
   "metadata": {},
   "outputs": [],
   "source": [
    "# the relationship between oil production and water production for each well\n",
    "wells = df[\"NPD_WELL_BORE_NAME\"].unique()\n",
    "plt.figure(figsize=(12,20))\n",
    "for i, well in enumerate(wells):\n",
    "    d = df[df[\"NPD_WELL_BORE_NAME\"]==well]\n",
    "    plt.subplot(len(wells),1,i+1)\n",
    "    plt.plot(d[\"DATEPRD\"], d[\"BORE_OIL_VOL\"])\n",
    "    plt.plot(d[\"DATEPRD\"], d[\"BORE_WAT_VOL\"])\n",
    "    plt.title(well)\n",
    "    plt.xlabel(\"Time\")\n",
    "    plt.ylabel(\"Oil & Water production\")\n",
    "    \n",
    "plt.tight_layout()\n",
    "plt.show"
   ]
  },
  {
   "cell_type": "markdown",
   "id": "7f5b1725-c1a4-4c18-96c3-b563d260f7a0",
   "metadata": {},
   "source": [
    "### 6. Well Production Contribution Visualization - Oil"
   ]
  },
  {
   "cell_type": "code",
   "execution_count": null,
   "id": "07aa1c36-223d-4786-82b6-b8c6092d93bf",
   "metadata": {},
   "outputs": [],
   "source": [
    "well_prod = df.groupby(\"NPD_WELL_BORE_NAME\")[\"BORE_OIL_VOL\"].sum()\n",
    "\n",
    "fig_o = px.pie(names=well_prod.index, values=well_prod.values, labels={\"names\":\"Well \", \"values\":\"Total oil production (bbls)\"},\n",
    ")\n",
    "fig_o.update_traces(textposition='inside', textinfo='percent+label'\n",
    ", hoverinfo='percent+label', marker=dict(line=dict(color='#000000', width=2)))\n",
    "fig_o.update_layout(\n",
    "    title_text=\"Contribution of each well in oil production\", legend_title_text=\"Wells\", legend_title_font_size=15,\n",
    "    title_x=.5, title_font_size=20, paper_bgcolor=\"#0C2D42\", font_color=\"#fff\"\n",
    ")\n",
    "fig_o.show() "
   ]
  },
  {
   "cell_type": "markdown",
   "id": "3936e530-52b3-4936-aa18-7e755ea3271d",
   "metadata": {},
   "source": [
    "### 7. Well Production Contribution Visualization - Gas"
   ]
  },
  {
   "cell_type": "code",
   "execution_count": null,
   "id": "edd1ff4b-c270-4fb3-b01a-e8b2fbe6f22a",
   "metadata": {},
   "outputs": [],
   "source": [
    "well_prod_g = df.groupby(\"NPD_WELL_BORE_NAME\")[\"BORE_GAS_VOL\"].sum()\n",
    "\n",
    "fig_g = px.pie(names=well_prod_g.index, values=well_prod_g.values, labels={\"names\":\"Well \", \"values\":\"Total oil production (bbls)\"},  \n",
    ")\n",
    "fig_g.update_traces(textposition='inside', textinfo='percent+label'\n",
    ", hoverinfo='percent+label', marker=dict(line=dict(color='#000000', width=2)))\n",
    "fig_g.update_layout(\n",
    "    title_text=\"Contribution of each well in gas production\", legend_title_text=\"Wells\", legend_title_font_size=15,\n",
    "    title_x=.5, title_font_size=20, paper_bgcolor=\"#0C2D42\", font_color=\"#fff\"\n",
    ")\n",
    "fig_g.show()"
   ]
  },
  {
   "cell_type": "markdown",
   "id": "9f86fd21-3a7f-4880-aa66-8b8a912aa39c",
   "metadata": {},
   "source": [
    "### 8. Well Production Contribution Visualization - Water"
   ]
  },
  {
   "cell_type": "code",
   "execution_count": null,
   "id": "fabe195f-6f9e-44cf-afe6-6d50ec985547",
   "metadata": {},
   "outputs": [],
   "source": [
    "well_prod_w = df.groupby(\"NPD_WELL_BORE_NAME\")[\"BORE_WAT_VOL\"].sum()\n",
    "\n",
    "fig_w = px.pie(names=well_prod_w.index, values=well_prod_w.values, labels={\"names\":\"Well \", \"values\":\"Total oil production (bbls)\"},\n",
    ")\n",
    "fig_w.update_traces(textposition='inside', textinfo='percent+label'\n",
    ", hoverinfo='percent+label', marker=dict(line=dict(color='#000000', width=2)))\n",
    "fig_w.update_layout(\n",
    "    title_text=\"Contribution of each well in water production\", legend_title_text=\"Wells\", legend_title_font_size=15,\n",
    "    title_x=.5, title_font_size=20, paper_bgcolor=\"#0C2D42\", font_color=\"#fff\"\n",
    ")\n",
    "fig_w.show()"
   ]
  },
  {
   "cell_type": "markdown",
   "id": "7626ecc1-53df-4c79-998e-87ac0a16aa06",
   "metadata": {},
   "source": [
    "### 9. Distribution Analysis of Production Data"
   ]
  },
  {
   "cell_type": "code",
   "execution_count": null,
   "id": "ba233c6c-9a70-4e4d-abcb-eaf2ee54423f",
   "metadata": {},
   "outputs": [],
   "source": [
    "# showing the distribution of data \n",
    "df.hist(figsize=(18,18))"
   ]
  },
  {
   "cell_type": "markdown",
   "id": "26ca45e7-61c0-4808-ad3c-97fc4727b599",
   "metadata": {},
   "source": [
    "The grid of histograms reveals several important data‐quality and distributional characteristics:\n",
    "\n",
    "- Time & Nominal Fields (DATEPRD, NPD codes): Entries cluster around specific wells, fields and facilities—confirming we’ve isolated the intended wellbore for modeling.\n",
    "- Operational Hours (ON_STREAM_HRS): Nearly all observations occur at 24 hrs, with very few partial‐day records—validating our decision to drop zero‐hour rows and treat production rates on a per‐day basis.\n",
    "- Static Pressures & Temperatures (BHP, BHT, WHP, WHT): These pressure/temperature variables are right‐skewed, with most values in a narrow operating range but occasional high‐pressure outliers.\n",
    "- Choke Settings (DP_CHOKE_SIZE): Choke sizes concentrate around a few discrete values (e.g. 10 mm, 20 mm, 30 mm), indicating step changes in valve configurations rather than a continuous control.\n",
    "- Volumes & Rates (BORE_OIL_VOL, BORE_WAT_VOL, oil_rate, water_rate): Highly right‐skewed with long tails—reflecting occasional production surges and justifying trimming the top 1 % of extreme water‐rate values during preprocessing.\n",
    "- Derived Features (rolling averages and lags): Though not shown here, these inherit the same skew and reinforce strong temporal autocorrelation.\n",
    "\n",
    "Implications: Nearly every continuous feature exhibits non‐Gaussian, right‐skewed behavior with a handful of extreme outliers. Before model fitting, we addressed these via outlier capping, rate conversion, and feature engineering (rolling means, lags). Models like XGBoost and tree‐based ensembles can naturally handle such skew, while linear methods benefit from scaling or transformation of the most heavily skewed predictors."
   ]
  },
  {
   "cell_type": "markdown",
   "id": "739ccd49-6d85-481a-b99f-f9f1b0e5f03b",
   "metadata": {},
   "source": [
    "### 10. Data Preparation for Machine Learning"
   ]
  },
  {
   "cell_type": "code",
   "execution_count": null,
   "id": "a4feb1ae-519e-427e-ba82-e7dd917eb530",
   "metadata": {},
   "outputs": [],
   "source": [
    "df_ml = df[df[\"WELL_TYPE\"]== \"OP\"]\n",
    "df_ml.rename(columns={\n",
    "    'DATEPRD': 'date',\n",
    "    'NPD_WELL_BORE_NAME': 'well_name',\n",
    "    'ON_STREAM_HRS': 'prod_hrs',\n",
    "    'AVG_DOWNHOLE_PRESSURE': 'bhp',\n",
    "    'AVG_DOWNHOLE_TEMPERATURE': 'bht',\n",
    "    'AVG_DP_TUBING': 'dp_tubing',\n",
    "    'AVG_WHP_P': 'tht',\n",
    "    'AVG_WHT_P': 'thp',\n",
    "    'DP_CHOKE_SIZE': 'choke_size_percentage',\n",
    "    'BORE_OIL_VOL': 'oil_vol',\n",
    "    'BORE_GAS_VOL': 'gas_vol',\n",
    "    'BORE_WAT_VOL': 'water_vol', \n",
    "}, inplace=True)"
   ]
  },
  {
   "cell_type": "markdown",
   "id": "12f855d0-1b92-40d1-ba60-6073fc5497c7",
   "metadata": {},
   "source": [
    "### 11. Feature Engineering for Well Performance Analysis"
   ]
  },
  {
   "cell_type": "code",
   "execution_count": null,
   "id": "ae0f9da9-6bc3-45d3-a013-69f139de89c7",
   "metadata": {},
   "outputs": [],
   "source": [
    "# Feature Engineering\n",
    "df_ml[\"oil_rate\"] = (df_ml[\"oil_vol\"] * 24) / df_ml[\"prod_hrs\"]\n",
    "df_ml[\"gas_rate\"] = (df_ml[\"gas_vol\"] * 24) / df_ml[\"prod_hrs\"]\n",
    "df_ml[\"water_rate\"] = (df_ml[\"water_vol\"] * 24) / df_ml[\"prod_hrs\"]\n",
    "df_ml[\"gor\"] = df_ml[\"gas_rate\"] / df_ml[\"oil_rate\"]\n",
    "df_ml[\"wc\"] = df_ml[\"water_rate\"] / (df_ml[\"water_rate\"] + df_ml[\"oil_rate\"])\n",
    "df_ml.drop([\"oil_vol\", \"gas_vol\", \"water_vol\"], axis=1, inplace=True)"
   ]
  },
  {
   "cell_type": "markdown",
   "id": "cadb7155-01d9-4841-b81d-91a6b3731d84",
   "metadata": {},
   "source": [
    "### 12. Water Cut Analysis"
   ]
  },
  {
   "cell_type": "code",
   "execution_count": null,
   "id": "2240941d-5127-44f2-817d-a4156cc1c147",
   "metadata": {},
   "outputs": [],
   "source": [
    "df_ml[df_ml[\"well_name\"]==\"15/9-F-1 C\"][\"wc\"].plot(ylabel=\"WC\", title=\"Water cut through time of one well\", figsize=(12,5))"
   ]
  },
  {
   "cell_type": "markdown",
   "id": "5195b4cb-8a30-469b-a936-2f74c2f7345e",
   "metadata": {},
   "source": [
    "### 13. Data Loading & Preparation for Specific Well Analysis"
   ]
  },
  {
   "cell_type": "code",
   "execution_count": null,
   "id": "1a7dde09-a552-42f2-9beb-acafd1c5e3a1",
   "metadata": {},
   "outputs": [],
   "source": [
    "def load_and_preprocess():\n",
    "    df = pd.read_excel(\"Volve production data.xlsx\", parse_dates=[\"DATEPRD\"])\n",
    "    df = df[df[\"WELL_BORE_CODE\"] == 'NO 15/9-F-14 H'].copy()\n",
    "    df.sort_values(\"DATEPRD\", inplace=True)\n",
    "    df.reset_index(drop=True, inplace=True)\n",
    "\n",
    "    cols_to_keep = [\n",
    "        \"DATEPRD\", \"ON_STREAM_HRS\", \"AVG_DOWNHOLE_PRESSURE\",\n",
    "        \"AVG_DOWNHOLE_TEMPERATURE\", \"AVG_DP_TUBING\", \"AVG_WHP_P\",\n",
    "        \"AVG_WHT_P\", \"DP_CHOKE_SIZE\", \"BORE_OIL_VOL\", \"BORE_WAT_VOL\"\n",
    "    ]\n",
    "    df = df[cols_to_keep].dropna()\n",
    "\n",
    "    df = df[df[\"ON_STREAM_HRS\"] > 0]\n",
    "    df[\"oil_rate\"] = df[\"BORE_OIL_VOL\"] / df[\"ON_STREAM_HRS\"]\n",
    "    df[\"water_rate\"] = df[\"BORE_WAT_VOL\"] / df[\"ON_STREAM_HRS\"]\n",
    "    df.drop(columns=[\"BORE_OIL_VOL\", \"BORE_WAT_VOL\", \"ON_STREAM_HRS\"], inplace=True)\n",
    "\n",
    "    df = df[df[\"water_rate\"] < 300]\n",
    "    for col in [\"AVG_DOWNHOLE_PRESSURE\", \"AVG_DOWNHOLE_TEMPERATURE\", \"AVG_WHP_P\"]:\n",
    "        df = df[df[col] > 0]\n",
    "\n",
    "    return df\n",
    "\n",
    "df = load_and_preprocess()"
   ]
  },
  {
   "cell_type": "markdown",
   "id": "67d6278e-356a-4ca8-b661-0b71584c70be",
   "metadata": {},
   "source": [
    "### 14. Time-Series Feature Engineering"
   ]
  },
  {
   "cell_type": "code",
   "execution_count": null,
   "id": "ccacfce2-c6d6-441e-8855-bd7d0465a16e",
   "metadata": {},
   "outputs": [],
   "source": [
    "# Convert to daily frequency for time-based features\n",
    "df = df.set_index(\"DATEPRD\").asfreq(\"D\")\n",
    "\n",
    "# Add rolling average features\n",
    "df[\"oil_rate_ma7\"] = df[\"oil_rate\"].rolling(7).mean()\n",
    "df[\"water_rate_ma7\"] = df[\"water_rate\"].rolling(7).mean()\n",
    "\n",
    "# Add lag features\n",
    "for lag in [1, 2, 7]:\n",
    "    df[f\"oil_lag{lag}\"] = df[\"oil_rate\"].shift(lag)\n",
    "    df[f\"water_lag{lag}\"] = df[\"water_rate\"].shift(lag)\n",
    "\n",
    "# Drop any rows with missing values from lags/rolling\n",
    "df.dropna(inplace=True)\n",
    "\n",
    "# Reset index for model compatibility\n",
    "df.reset_index(inplace=True)"
   ]
  },
  {
   "cell_type": "markdown",
   "id": "17eaf665-fc12-4f7e-a9f6-67837493580a",
   "metadata": {},
   "source": [
    "### 15. Model Setup and Training"
   ]
  },
  {
   "cell_type": "code",
   "execution_count": null,
   "id": "425f8729-ee80-40f5-94bd-f00902ff6c7f",
   "metadata": {},
   "outputs": [],
   "source": [
    "feature_cols = [\n",
    "    \"AVG_DOWNHOLE_PRESSURE\", \"AVG_DOWNHOLE_TEMPERATURE\", \"AVG_DP_TUBING\",\n",
    "    \"AVG_WHP_P\", \"AVG_WHT_P\", \"DP_CHOKE_SIZE\",\n",
    "    \"oil_rate_ma7\", \"water_rate_ma7\",\n",
    "    \"oil_lag1\", \"oil_lag2\", \"oil_lag7\",\n",
    "    \"water_lag1\", \"water_lag2\", \"water_lag7\"\n",
    "]\n",
    "\n",
    "X = df[feature_cols]\n",
    "y = df[[\"oil_rate\", \"water_rate\"]]\n",
    "\n",
    "# Train/Test split for evaluation\n",
    "X_train, X_test, y_train, y_test = train_test_split(X, y, shuffle=False, test_size=0.2)\n",
    "\n",
    "# Train oil model (XGBoost)\n",
    "xgb_oil = XGBRegressor(max_depth=10, n_estimators=500, objective=\"reg:squarederror\", gamma=0.3)\n",
    "xgb_oil.fit(X_train, y_train[\"oil_rate\"])\n",
    "\n",
    "# Train water model (Linear Regression)\n",
    "lr_water = LinearRegression()\n",
    "lr_water.fit(X_train, y_train[\"water_rate\"])"
   ]
  },
  {
   "cell_type": "markdown",
   "id": "0251522b-f8de-4c92-a850-58bb96cbd855",
   "metadata": {},
   "source": [
    "### 16. Additional ML Models Requested: Decision Tree, Random Forest, and Standard Scaler"
   ]
  },
  {
   "cell_type": "code",
   "execution_count": null,
   "id": "ddc97e24-155a-455a-bc7b-0eb84b909c6e",
   "metadata": {},
   "outputs": [],
   "source": [
    "# Decision Tree model for oil\n",
    "dt_oil = DecisionTreeRegressor(max_depth=8, min_samples_split=10)\n",
    "dt_oil.fit(X_train, y_train[\"oil_rate\"])\n",
    "\n",
    "# Random Forest model for oil\n",
    "rf_oil = RandomForestRegressor(n_estimators=100, max_depth=10, random_state=42)\n",
    "rf_oil.fit(X_train, y_train[\"oil_rate\"])\n",
    "\n",
    "# Standard Scaler Pipeline for water\n",
    "pipeline_water = Pipeline([\n",
    "    ('scaler', StandardScaler()),\n",
    "    ('lr', LinearRegression())\n",
    "])\n",
    "pipeline_water.fit(X_train, y_train[\"water_rate\"])"
   ]
  },
  {
   "cell_type": "code",
   "execution_count": null,
   "id": "9302031a-4827-41db-9c4d-656f21e3bd97",
   "metadata": {},
   "outputs": [],
   "source": [
    "#Oil Model Performance Comparison\n",
    "\n",
    "from sklearn.metrics import mean_absolute_error, r2_score\n",
    "import matplotlib.pyplot as plt\n",
    "\n",
    "# Collect metrics\n",
    "models_oil = {\n",
    "    'XGBoost': xgb_oil,\n",
    "    'Decision Tree': dt_oil,\n",
    "    'Random Forest': rf_oil\n",
    "}\n",
    "oil_mae = []\n",
    "oil_r2  = []\n",
    "for name, model in models_oil.items():\n",
    "    y_pred = model.predict(X_test)\n",
    "    oil_mae.append(mean_absolute_error(y_test['oil_rate'], y_pred))\n",
    "    oil_r2.append(r2_score(y_test['oil_rate'], y_pred))\n",
    "\n",
    "# MAE Bar Chart\n",
    "plt.figure()\n",
    "plt.bar(models_oil.keys(), oil_mae)\n",
    "plt.ylabel('MAE')\n",
    "plt.title('Oil Model MAE Comparison')\n",
    "plt.tight_layout()\n",
    "plt.show()\n",
    "\n",
    "# R² Bar Chart\n",
    "plt.figure()\n",
    "plt.bar(models_oil.keys(), oil_r2)\n",
    "plt.ylabel('R² Score')\n",
    "plt.title('Oil Model R² Comparison')\n",
    "plt.tight_layout()\n",
    "plt.show()"
   ]
  },
  {
   "cell_type": "code",
   "execution_count": null,
   "id": "bc8aa635-b4ad-46b7-b2c3-bcb61eeed585",
   "metadata": {},
   "outputs": [],
   "source": [
    "#Water Model Performance Comparison \n",
    "\n",
    "from sklearn.metrics import mean_absolute_error, r2_score\n",
    "import matplotlib.pyplot as plt\n",
    "\n",
    "# Collect metrics\n",
    "models_water = {\n",
    "    'LinearRegression': lr_water,\n",
    "    'Scaled → Linear': pipeline_water\n",
    "}\n",
    "water_mae = []\n",
    "water_r2  = []\n",
    "for name, model in models_water.items():\n",
    "    y_pred = model.predict(X_test)\n",
    "    water_mae.append(mean_absolute_error(y_test['water_rate'], y_pred))\n",
    "    water_r2.append(r2_score(y_test['water_rate'], y_pred))\n",
    "\n",
    "# MAE Bar Chart\n",
    "plt.figure()\n",
    "plt.bar(models_water.keys(), water_mae)\n",
    "plt.ylabel('MAE')\n",
    "plt.title('Water Model MAE Comparison')\n",
    "plt.tight_layout()\n",
    "plt.show()\n",
    "\n",
    "# R² Bar Chart\n",
    "plt.figure()\n",
    "plt.bar(models_water.keys(), water_r2)\n",
    "plt.ylabel('R² Score')\n",
    "plt.title('Water Model R² Comparison')\n",
    "plt.tight_layout()\n",
    "plt.show()\n"
   ]
  },
  {
   "cell_type": "markdown",
   "id": "3559f06e-d49f-4ec5-a6b2-9385ab496c62",
   "metadata": {},
   "source": [
    "### 17. Forecast Generation (180 Days Ahead)"
   ]
  },
  {
   "cell_type": "code",
   "execution_count": null,
   "id": "103714e1-b2cd-440b-b359-d7d2bf4aef3d",
   "metadata": {},
   "outputs": [],
   "source": [
    "# Generate future dates\n",
    "last_date = df[\"DATEPRD\"].max()\n",
    "future_days = 180\n",
    "future_index = pd.date_range(start=last_date + pd.Timedelta(days=1), periods=future_days, freq=\"D\")\n",
    "\n",
    "# Initialize future DataFrame\n",
    "future = pd.DataFrame(index=future_index)\n",
    "\n",
    "# Use last known values for static features\n",
    "static_cols = [\n",
    "    \"AVG_DOWNHOLE_PRESSURE\", \"AVG_DOWNHOLE_TEMPERATURE\", \"AVG_DP_TUBING\",\n",
    "    \"AVG_WHP_P\", \"AVG_WHT_P\", \"DP_CHOKE_SIZE\"\n",
    "]\n",
    "for col in static_cols:\n",
    "    future[col] = df[col].iloc[-1]\n",
    "\n",
    "# Use last known rolling and lag features\n",
    "future[\"oil_rate_ma7\"] = df[\"oil_rate\"].rolling(7).mean().iloc[-1]\n",
    "future[\"water_rate_ma7\"] = df[\"water_rate\"].rolling(7).mean().iloc[-1]\n",
    "for lag in [1, 2, 7]:\n",
    "    future[f\"oil_lag{lag}\"] = df[\"oil_rate\"].shift(lag).iloc[-1]\n",
    "    future[f\"water_lag{lag}\"] = df[\"water_rate\"].shift(lag).iloc[-1]\n",
    "\n",
    "# Predict\n",
    "X_future = future[feature_cols]\n",
    "future[\"oil_pred\"] = xgb_oil.predict(X_future)\n",
    "future[\"water_pred\"] = lr_water.predict(X_future)"
   ]
  },
  {
   "cell_type": "markdown",
   "id": "b1ee51dc-e4f9-4b36-ab52-678b79e74ab2",
   "metadata": {},
   "source": [
    "### 18. Forecast Visualization"
   ]
  },
  {
   "cell_type": "code",
   "execution_count": null,
   "id": "15dcac80-ee32-4ea2-bc8b-ccbaae80a99d",
   "metadata": {},
   "outputs": [],
   "source": [
    "plt.figure(figsize=(12, 6))\n",
    "plt.plot(df[\"DATEPRD\"], df[\"oil_rate\"], label=\"Historical Oil Rate\")\n",
    "plt.plot(future.index, future[\"oil_pred\"], \"--\", label=\"Forecasted Oil Rate\")\n",
    "plt.plot(df[\"DATEPRD\"], df[\"water_rate\"], label=\"Historical Water Rate\")\n",
    "plt.plot(future.index, future[\"water_pred\"], \"--\", label=\"Forecasted Water Rate\")\n",
    "plt.xlabel(\"Date\")\n",
    "plt.ylabel(\"Production Rate\")\n",
    "plt.title(\"180-Day Oil & Water Production Forecast\")\n",
    "plt.legend()\n",
    "plt.grid(True, linestyle=\"--\", alpha=0.4)\n",
    "plt.tight_layout()\n",
    "plt.show()"
   ]
  },
  {
   "cell_type": "markdown",
   "id": "ac3377fb-b330-4357-8cc1-809862920c42",
   "metadata": {},
   "source": [
    "Based on the historical production trends and the results of the machine learning-based 180-day forecast, the following conclusions and recommendations are drawn:\n",
    "\n",
    "---\n",
    "\n",
    "### 🔍 Key Observations\n",
    "\n",
    "**Declining Oil Production:**\n",
    "- Historical data reveals a consistent downward trend in oil production, consistent with a mature, depleting reservoir.\n",
    "- The forecast projects this decline to continue, with oil rates expected to fall to approximately 100 units/day by mid-2017 under current operating conditions.\n",
    "\n",
    "**Rising Water Production:**\n",
    "- Water production has increased steadily, typical of water-drive reservoir behavior.\n",
    "- Forecast results indicate water rates will surpass oil production within the next 180 days, signaling a growing water-cut challenge.\n",
    "\n",
    "**Anomaly Resolution:**\n",
    "- Outliers such as negative water rates in 2012 and abnormal spikes during 2010–2011 were identified and resolved to ensure forecast accuracy.\n",
    "\n",
    "---\n",
    "\n",
    "### 📈 Model Performance\n",
    "\n",
    "**Oil Forecast (XGBoost):**\n",
    "- Demonstrates strong performance (R² > 0.85), effectively capturing nonlinear decline trends.\n",
    "\n",
    "**Water Forecast (Linear Regression):**\n",
    "- Moderate performance (R² ~ 0.70), due to relatively weaker correlation with input features.\n",
    "- **Recommendation:** Evaluate more advanced models (e.g., LSTM, Random Forest) for better water rate predictions.\n",
    "\n",
    "---\n",
    "\n",
    "### 📌 Strategic Recommendations\n",
    "\n",
    "**1. Optimize Choke Sizes:**\n",
    "- Scenario simulations suggest that optimizing choke settings (e.g., 20–30 mm) may delay water breakthrough and improve oil recovery.\n",
    "\n",
    "**2. Water Management:**\n",
    "- Prepare for increased water handling and separation costs.\n",
    "- Evaluate artificial lift strategies to counteract declining oil rates and rising water cuts.\n",
    "\n",
    "**3. Data-Driven Surveillance:**\n",
    "- Implement real-time monitoring of downhole pressure and temperature to enhance forecast accuracy and detect anomalies early.\n",
    "\n",
    "**4. Economic Cut-Off Assessment:**\n",
    "- Review economic viability as water becomes dominant.\n",
    "- Define clear cut-off criteria based on net oil output and lifting cost.\n",
    "\n",
    "---\n",
    "\n",
    "### 🗣️ Final Conclusion\n",
    "\n",
    "In summary, while the reservoir appears to be entering a high water-cut phase, targeted choke management and proactive water-handling strategies can meaningfully extend the productive life of the well. For sustained value, I recommend adopting advanced modeling tools and integrating real-time surveillance into routine operations.\n",
    "\n",
    "---\n",
    "\n",
    "### 📊 Visual Reference:\n",
    "\n",
    "\"This forecast chart clearly illustrates the urgency of managing water influx while optimizing residual oil recovery. I’d be happy to discuss how we can operationalize these insights into field action.\""
   ]
  },
  {
   "cell_type": "markdown",
   "id": "508e22c8-69e7-41d2-adee-4e4acad22be0",
   "metadata": {},
   "source": [
    "### 19. Confidence Interval (Bootstrapped)"
   ]
  },
  {
   "cell_type": "code",
   "execution_count": null,
   "id": "c781c417-453d-4359-a9d8-8b84226fe5cf",
   "metadata": {},
   "outputs": [],
   "source": [
    "# Compute residuals\n",
    "residuals_oil = y_test[\"oil_rate\"] - xgb_oil.predict(X_test)\n",
    "residuals_water = y_test[\"water_rate\"] - lr_water.predict(X_test)\n",
    "\n",
    "# Bootstrap simulation\n",
    "def forecast_with_uncertainty(oil_pred, water_pred, residuals_oil, residuals_water, n_samples=100):\n",
    "    boot_oil = []\n",
    "    boot_water = []\n",
    "    for _ in range(n_samples):\n",
    "        boot_oil.append(oil_pred + np.random.choice(residuals_oil, size=len(oil_pred), replace=True))\n",
    "        boot_water.append(water_pred + np.random.choice(residuals_water, size=len(water_pred), replace=True))\n",
    "\n",
    "    boot_oil = np.array(boot_oil)\n",
    "    boot_water = np.array(boot_water)\n",
    "\n",
    "    # 90% CI\n",
    "    lower_oil = np.percentile(boot_oil, 5, axis=0)\n",
    "    upper_oil = np.percentile(boot_oil, 95, axis=0)\n",
    "    lower_water = np.percentile(boot_water, 5, axis=0)\n",
    "    upper_water = np.percentile(boot_water, 95, axis=0)\n",
    "\n",
    "    # Plot\n",
    "    plt.figure(figsize=(12, 6))\n",
    "    plt.plot(future.index, oil_pred, label=\"Oil Forecast\")\n",
    "    plt.fill_between(future.index, lower_oil, upper_oil, alpha=0.2, label=\"Oil 90% CI\")\n",
    "    plt.plot(future.index, water_pred, label=\"Water Forecast\")\n",
    "    plt.fill_between(future.index, lower_water, upper_water, alpha=0.2, label=\"Water 90% CI\")\n",
    "    plt.title(\"Forecast with Bootstrapped 90% Confidence Intervals\")\n",
    "    plt.xlabel(\"Date\")\n",
    "    plt.ylabel(\"Production Rate\")\n",
    "    plt.legend()\n",
    "    plt.tight_layout()\n",
    "    plt.show()\n",
    "\n",
    "# Run the uncertainty plot\n",
    "forecast_with_uncertainty(future[\"oil_pred\"], future[\"water_pred\"], residuals_oil, residuals_water)"
   ]
  },
  {
   "cell_type": "markdown",
   "id": "d84ec8e7-de02-4241-8a09-b7efb31107e4",
   "metadata": {},
   "source": [
    "This plot introduces a 90% confidence interval using bootstrapped residuals:\n",
    "\n",
    "- **Oil Forecast**: The band is relatively narrow, indicating strong model confidence. Forecast remains flat but reliable.\n",
    "- **Water Forecast**: Also consistent, though wider confidence intervals reflect slightly more variability in water behavior.\n",
    "\n",
    "**Insight**: The model is robust and predictions are stable. This provides a strong foundation for planning and risk assessment."
   ]
  },
  {
   "cell_type": "markdown",
   "id": "7be2ceb7-d6d6-4bcf-bdbf-b13bbb92359b",
   "metadata": {},
   "source": [
    "### 20. Cumulative Production Forecast"
   ]
  },
  {
   "cell_type": "code",
   "execution_count": null,
   "id": "085e10ec-086d-42ec-bb56-5ade66e44eb5",
   "metadata": {},
   "outputs": [],
   "source": [
    "# Estimate daily volume (rate * 24 hours)\n",
    "future[\"oil_volume\"] = future[\"oil_pred\"] * 24\n",
    "future[\"water_volume\"] = future[\"water_pred\"] * 24\n",
    "\n",
    "# Cumulative volumes\n",
    "future[\"cum_oil\"] = future[\"oil_volume\"].cumsum()\n",
    "future[\"cum_water\"] = future[\"water_volume\"].cumsum()\n",
    "\n",
    "# Plot cumulative forecast\n",
    "plt.figure(figsize=(10, 5))\n",
    "plt.plot(future.index, future[\"cum_oil\"], label=\"Cumulative Oil Forecast\")\n",
    "plt.plot(future.index, future[\"cum_water\"], label=\"Cumulative Water Forecast\")\n",
    "plt.title(\"180-Day Cumulative Oil & Water Volume Forecast\")\n",
    "plt.xlabel(\"Date\")\n",
    "plt.ylabel(\"Volume\")\n",
    "plt.legend()\n",
    "plt.grid(True, linestyle=\"--\", alpha=0.3)\n",
    "plt.tight_layout()\n",
    "plt.show()"
   ]
  },
  {
   "cell_type": "markdown",
   "id": "bcc27bd1-a396-42d3-9b05-161959412963",
   "metadata": {},
   "source": [
    "The cumulative forecast plot highlights a substantial disparity between oil and water volumes over the 180-day forecast period:\n",
    "\n",
    "- **Cumulative Oil**: Grows gradually, consistent with a late-life reservoir. The total volume is modest, reflecting the ongoing production decline.\n",
    "- **Cumulative Water**: Increases steeply, reaching over 500,000 units. This indicates a severe water-cut situation, requiring attention to separation and disposal infrastructure.\n",
    "\n",
    "**Insight**: The field is entering a high water dominance phase — cumulative water production vastly outweighs oil, reinforcing the need for proactive water management."
   ]
  },
  {
   "cell_type": "markdown",
   "id": "49465310-970f-47a4-af8a-cba3481afc47",
   "metadata": {},
   "source": [
    "### 21. Scenario Simulation: Choke Size Sensitivity"
   ]
  },
  {
   "cell_type": "code",
   "execution_count": null,
   "id": "7ffeb8fa-47e1-4c0e-a1b8-23ac89af1840",
   "metadata": {},
   "outputs": [],
   "source": [
    "def simulate_choke_scenarios(model_oil, base_df, choke_values, days=180):\n",
    "    scenario_results = {}\n",
    "    for choke in choke_values:\n",
    "        future_scenario = pd.DataFrame(index=pd.date_range(base_df[\"DATEPRD\"].max() + pd.Timedelta(days=1), periods=days, freq=\"D\"))\n",
    "        for col in static_cols:\n",
    "            if col == \"DP_CHOKE_SIZE\":\n",
    "                future_scenario[col] = choke\n",
    "            else:\n",
    "                future_scenario[col] = base_df[col].iloc[-1]\n",
    "\n",
    "        future_scenario[\"oil_rate_ma7\"] = base_df[\"oil_rate\"].rolling(7).mean().iloc[-1]\n",
    "        future_scenario[\"water_rate_ma7\"] = base_df[\"water_rate\"].rolling(7).mean().iloc[-1]\n",
    "        for lag in [1, 2, 7]:\n",
    "            future_scenario[f\"oil_lag{lag}\"] = base_df[\"oil_rate\"].shift(lag).iloc[-1]\n",
    "            future_scenario[f\"water_lag{lag}\"] = base_df[\"water_rate\"].shift(lag).iloc[-1]\n",
    "\n",
    "        X_scenario = future_scenario[feature_cols]\n",
    "        scenario_results[choke] = model_oil.predict(X_scenario)\n",
    "\n",
    "    # Plot scenario results\n",
    "    plt.figure(figsize=(10, 5))\n",
    "    for choke, preds in scenario_results.items():\n",
    "        plt.plot(future_scenario.index, preds, label=f\"Choke = {choke} mm\")\n",
    "    plt.title(\"Oil Rate Forecast Under Varying Choke Sizes\")\n",
    "    plt.xlabel(\"Date\"); plt.ylabel(\"Oil Rate\")\n",
    "    plt.legend(); plt.grid(True); plt.tight_layout()\n",
    "    plt.show()\n",
    "\n",
    "# Run the scenario simulation\n",
    "simulate_choke_scenarios(xgb_oil, df, choke_values=[10, 20, 30])"
   ]
  },
  {
   "cell_type": "markdown",
   "id": "d6c6aeb3-9fc4-4714-9aff-d017f7ab1133",
   "metadata": {},
   "source": [
    "This graph illustrates the forecasted oil production rates under varying choke sizes (10 mm, 20 mm, and 30 mm) from August 2016 to January 2017. A gradual decline in oil rates is observed across all scenarios, with rates decreasing from ~13.1 to 12.7 units over the period. While adjustments to choke size influence short-term flow dynamics, the consistent downward trend highlights underlying challenges such as reservoir depletion or increasing water cut. These insights underscore the importance of optimizing choke settings to mitigate decline rates and align production strategies with long-term field performance."
   ]
  },
  {
   "cell_type": "markdown",
   "id": "082069c2-4be4-48ec-93a0-ffac3651af76",
   "metadata": {},
   "source": [
    "### 22. Export Forecast Results"
   ]
  },
  {
   "cell_type": "code",
   "execution_count": null,
   "id": "c3038f30-7872-4070-9a7c-e884eadcb49c",
   "metadata": {},
   "outputs": [],
   "source": [
    "# Prepare final export DataFrame\n",
    "export_df = future.reset_index().rename(columns={\"index\": \"Date\"})[[\n",
    "    \"Date\", \"oil_pred\", \"water_pred\", \"cum_oil\", \"cum_water\"\n",
    "]]\n",
    "export_df.columns = [\"Date\", \"Oil Forecast\", \"Water Forecast\", \"Cumulative Oil\", \"Cumulative Water\"]\n",
    "\n",
    "# Export to Excel\n",
    "export_df.to_excel(\"Oil_Water_180Day_Forecast.xlsx\", index=False)\n",
    "print(\"✅ Forecast data exported to 'Oil_Water_180Day_Forecast.xlsx'\")"
   ]
  },
  {
   "cell_type": "code",
   "execution_count": null,
   "id": "beef99db-0d57-40fc-9d3a-5a96e4774660",
   "metadata": {},
   "outputs": [],
   "source": []
  }
 ],
 "metadata": {
  "kernelspec": {
   "display_name": "Python 3 (ipykernel)",
   "language": "python",
   "name": "python3"
  },
  "language_info": {
   "codemirror_mode": {
    "name": "ipython",
    "version": 3
   },
   "file_extension": ".py",
   "mimetype": "text/x-python",
   "name": "python",
   "nbconvert_exporter": "python",
   "pygments_lexer": "ipython3",
   "version": "3.13.0"
  }
 },
 "nbformat": 4,
 "nbformat_minor": 5
}
